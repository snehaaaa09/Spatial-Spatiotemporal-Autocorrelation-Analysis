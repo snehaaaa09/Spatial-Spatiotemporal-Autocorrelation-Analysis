{
 "cells": [
  {
   "cell_type": "markdown",
   "source": [
    "# Imports"
   ],
   "metadata": {
    "collapsed": false,
    "pycharm": {
     "name": "#%% md\n"
    }
   }
  },
  {
   "cell_type": "code",
   "execution_count": 41,
   "outputs": [],
   "source": [
    "# User-defined functions\n",
    "# All data preparation functions for GDP data and explanatory variables\n",
    "from Functions.data_prep import data_GDP, data_explanatory\n",
    "from Functions.spatial_functions import spatial_weight_matrix\n",
    "from Functions.spatiotemporal_autocorrelation import year_df_creation\n",
    "from libpysal.weights import W\n",
    "import pandas as pd\n",
    "import numpy as np\n",
    "import libpysal\n",
    "import spreg\n",
    "import folium\n",
    "\n",
    "# Spatial econometrics\n",
    "from spreg import OLS\n",
    "from spreg import ML_Lag, ML_Error, GM_Error, GM_Error_Het, GM_Lag, GM_Combo, GM_Combo_Het\n",
    "from sklearn.metrics import mean_squared_error"
   ],
   "metadata": {
    "collapsed": false,
    "pycharm": {
     "name": "#%%\n"
    }
   }
  },
  {
   "cell_type": "code",
   "execution_count": 42,
   "outputs": [],
   "source": [
    "# Example data\n",
    "time_period_option = 'all_years'\n",
    "NUTS_level = 2\n",
    "gdf_lvl = data_GDP(NUTS_level, time_period_option)"
   ],
   "metadata": {
    "collapsed": false,
    "pycharm": {
     "name": "#%%\n"
    }
   }
  },
  {
   "cell_type": "code",
   "execution_count": 43,
   "outputs": [],
   "source": [
    "exp_data = data_explanatory(True, 'all_years')\n",
    "# Explanatory df\n",
    "X_df = exp_data[0]\n",
    "X_df = X_df.dropna()\n",
    "# Explanatory variables list\n",
    "exp_var_list = list(exp_data[1])\n",
    "# list of NUTS regions where explanatory variables have values\n",
    "exp_regions = list(X_df['NUTS_ID'].unique())"
   ],
   "metadata": {
    "collapsed": false,
    "pycharm": {
     "name": "#%%\n"
    }
   }
  },
  {
   "cell_type": "code",
   "execution_count": 44,
   "outputs": [],
   "source": [
    "# Define the list of required years\n",
    "required_years = set(range(2015, 2020))\n",
    "# Find NUTS_IDs with complete years\n",
    "def has_all_years(group):\n",
    "    return required_years.issubset(group['TIME_PERIOD'].unique())\n",
    "# Filter NUTS_IDs\n",
    "valid_nuts_ids = X_df.groupby('NUTS_ID').filter(has_all_years)['NUTS_ID'].unique()\n",
    "# Convert to list if needed\n",
    "valid_nuts_ids_list = valid_nuts_ids.tolist()\n",
    "X_df = X_df[X_df['NUTS_ID'].isin(valid_nuts_ids_list)]\n",
    "\n",
    "# Filter out final df with years 2015 to 2019:\n",
    "X_df = X_df[(X_df['TIME_PERIOD'] >= 2015) & (X_df['TIME_PERIOD'] <= 2019)]"
   ],
   "metadata": {
    "collapsed": false,
    "pycharm": {
     "name": "#%%\n"
    }
   }
  },
  {
   "cell_type": "code",
   "execution_count": 45,
   "outputs": [],
   "source": [
    "# Merging with gdf_lvl to get the geometries of each location\n",
    "final_df = pd.merge(X_df, gdf_lvl[['NUTS_ID', 'NAME_LATN', 'NUTS_NAME','geometry', 'TIME_PERIOD', 'GDP_VALUE']], on=['NUTS_ID', 'TIME_PERIOD'], how='left')"
   ],
   "metadata": {
    "collapsed": false,
    "pycharm": {
     "name": "#%%\n"
    }
   }
  },
  {
   "cell_type": "code",
   "execution_count": 46,
   "outputs": [],
   "source": [
    "# Extract only for one year to calculate spatial weight (preventing repeated regions)!!\n",
    "region_df = year_df_creation(final_df, 2015)\n",
    "region_df = region_df.drop(columns=['TIME_PERIOD'])\n",
    "# Making sure that the index of region is NUTS_ID\n",
    "region_df.set_index('NUTS_ID', inplace=True)\n",
    "# Spatial Weights Creation\n",
    "w_adaptive_exp = spatial_weight_matrix(region_df, 15)\n",
    "\n",
    "# Removing own regions as neighbours from w_adaptive results\n",
    "for key in w_adaptive_exp.weights:\n",
    "    w_adaptive_exp.weights[key] = w_adaptive_exp.weights[key][1:]\n",
    "for key in w_adaptive_exp.neighbors:\n",
    "    w_adaptive_exp.neighbors[key] = w_adaptive_exp.neighbors[key][1:]"
   ],
   "metadata": {
    "collapsed": false,
    "pycharm": {
     "name": "#%%\n"
    }
   }
  },
  {
   "cell_type": "code",
   "execution_count": 47,
   "outputs": [
    {
     "data": {
      "text/plain": "    NUTS_ID  TIME_PERIOD  DISP_INCOME_VAL  PRIM_INCOME_VAL  POP_DENS_VAL   \n0      AT11         2015        -0.774547        -0.722311     -0.317250  \\\n1      AT11         2016        -0.769789        -0.722459     -0.316794   \n2      AT11         2017        -0.764390        -0.716013     -0.316451   \n3      AT11         2018        -0.759596        -0.710199     -0.318962   \n4      AT11         2019        -0.756658        -0.707431     -0.318620   \n..      ...          ...              ...              ...           ...   \n970    SK04         2015        -0.459419        -0.521702     -0.290088   \n971    SK04         2016        -0.490577        -0.540160     -0.289404   \n972    SK04         2017        -0.502221        -0.547703     -0.289175   \n973    SK04         2018        -0.472183        -0.527053     -0.288947   \n974    SK04         2019        -0.460397        -0.509360     -0.288833   \n\n     POP_COUNT_VAL  TOTAL_DEATH_VAL  TOUR_PLCS_VAL  TOUR_NIGHTS_VAL   \n0        -0.948915        -0.104939      -0.268372        -0.539341  \\\n1        -0.947317        -0.196806      -0.269549        -0.527673   \n2        -0.946756        -0.215735      -0.269549        -0.527977   \n3        -0.946315        -0.287216      -0.270726        -0.531453   \n4        -0.945859        -0.291452      -0.271510        -0.526076   \n..             ...              ...            ...              ...   \n970      -0.150130         1.414827      -0.220511        -0.518666   \n971      -0.149044         1.243141      -0.227834        -0.485621   \n972      -0.147199         1.163894      -0.229926        -0.477852   \n973      -0.145616         0.990927      -0.220772        -0.466630   \n974      -0.144176         0.905062      -0.205473        -0.419079   \n\n     SCI_TECH_VAL   EDU_VAL           NAME_LATN           NUTS_NAME   \n0        0.337501 -0.102844          Burgenland          Burgenland  \\\n1        0.317100 -0.165883          Burgenland          Burgenland   \n2        0.531307 -0.155376          Burgenland          Burgenland   \n3        0.449705 -0.113351          Burgenland          Burgenland   \n4        0.674112  0.128297          Burgenland          Burgenland   \n..            ...       ...                 ...                 ...   \n970     -1.345553 -1.027409  Východné Slovensko  Východné Slovensko   \n971     -1.386354 -1.069435  Východné Slovensko  Východné Slovensko   \n972     -1.294551 -0.985384  Východné Slovensko  Východné Slovensko   \n973     -0.917139 -0.617659  Východné Slovensko  Východné Slovensko   \n974     -0.855937 -0.596646  Východné Slovensko  Východné Slovensko   \n\n                                              geometry  GDP_VALUE  \n0    POLYGON ((4846489.857 2803511.391, 4854633.294...    25000.0  \n1    POLYGON ((4846489.857 2803511.391, 4854633.294...    25600.0  \n2    POLYGON ((4846489.857 2803511.391, 4854633.294...    26400.0  \n3    POLYGON ((4846489.857 2803511.391, 4854633.294...    27100.0  \n4    POLYGON ((4846489.857 2803511.391, 4854633.294...    27600.0  \n..                                                 ...        ...  \n970  POLYGON ((5234032.669 2964367.443, 5224941.452...    15200.0  \n971  POLYGON ((5234032.669 2964367.443, 5224941.452...    14300.0  \n972  POLYGON ((5234032.669 2964367.443, 5224941.452...    14800.0  \n973  POLYGON ((5234032.669 2964367.443, 5224941.452...    15300.0  \n974  POLYGON ((5234032.669 2964367.443, 5224941.452...    15500.0  \n\n[975 rows x 15 columns]",
      "text/html": "<div>\n<style scoped>\n    .dataframe tbody tr th:only-of-type {\n        vertical-align: middle;\n    }\n\n    .dataframe tbody tr th {\n        vertical-align: top;\n    }\n\n    .dataframe thead th {\n        text-align: right;\n    }\n</style>\n<table border=\"1\" class=\"dataframe\">\n  <thead>\n    <tr style=\"text-align: right;\">\n      <th></th>\n      <th>NUTS_ID</th>\n      <th>TIME_PERIOD</th>\n      <th>DISP_INCOME_VAL</th>\n      <th>PRIM_INCOME_VAL</th>\n      <th>POP_DENS_VAL</th>\n      <th>POP_COUNT_VAL</th>\n      <th>TOTAL_DEATH_VAL</th>\n      <th>TOUR_PLCS_VAL</th>\n      <th>TOUR_NIGHTS_VAL</th>\n      <th>SCI_TECH_VAL</th>\n      <th>EDU_VAL</th>\n      <th>NAME_LATN</th>\n      <th>NUTS_NAME</th>\n      <th>geometry</th>\n      <th>GDP_VALUE</th>\n    </tr>\n  </thead>\n  <tbody>\n    <tr>\n      <th>0</th>\n      <td>AT11</td>\n      <td>2015</td>\n      <td>-0.774547</td>\n      <td>-0.722311</td>\n      <td>-0.317250</td>\n      <td>-0.948915</td>\n      <td>-0.104939</td>\n      <td>-0.268372</td>\n      <td>-0.539341</td>\n      <td>0.337501</td>\n      <td>-0.102844</td>\n      <td>Burgenland</td>\n      <td>Burgenland</td>\n      <td>POLYGON ((4846489.857 2803511.391, 4854633.294...</td>\n      <td>25000.0</td>\n    </tr>\n    <tr>\n      <th>1</th>\n      <td>AT11</td>\n      <td>2016</td>\n      <td>-0.769789</td>\n      <td>-0.722459</td>\n      <td>-0.316794</td>\n      <td>-0.947317</td>\n      <td>-0.196806</td>\n      <td>-0.269549</td>\n      <td>-0.527673</td>\n      <td>0.317100</td>\n      <td>-0.165883</td>\n      <td>Burgenland</td>\n      <td>Burgenland</td>\n      <td>POLYGON ((4846489.857 2803511.391, 4854633.294...</td>\n      <td>25600.0</td>\n    </tr>\n    <tr>\n      <th>2</th>\n      <td>AT11</td>\n      <td>2017</td>\n      <td>-0.764390</td>\n      <td>-0.716013</td>\n      <td>-0.316451</td>\n      <td>-0.946756</td>\n      <td>-0.215735</td>\n      <td>-0.269549</td>\n      <td>-0.527977</td>\n      <td>0.531307</td>\n      <td>-0.155376</td>\n      <td>Burgenland</td>\n      <td>Burgenland</td>\n      <td>POLYGON ((4846489.857 2803511.391, 4854633.294...</td>\n      <td>26400.0</td>\n    </tr>\n    <tr>\n      <th>3</th>\n      <td>AT11</td>\n      <td>2018</td>\n      <td>-0.759596</td>\n      <td>-0.710199</td>\n      <td>-0.318962</td>\n      <td>-0.946315</td>\n      <td>-0.287216</td>\n      <td>-0.270726</td>\n      <td>-0.531453</td>\n      <td>0.449705</td>\n      <td>-0.113351</td>\n      <td>Burgenland</td>\n      <td>Burgenland</td>\n      <td>POLYGON ((4846489.857 2803511.391, 4854633.294...</td>\n      <td>27100.0</td>\n    </tr>\n    <tr>\n      <th>4</th>\n      <td>AT11</td>\n      <td>2019</td>\n      <td>-0.756658</td>\n      <td>-0.707431</td>\n      <td>-0.318620</td>\n      <td>-0.945859</td>\n      <td>-0.291452</td>\n      <td>-0.271510</td>\n      <td>-0.526076</td>\n      <td>0.674112</td>\n      <td>0.128297</td>\n      <td>Burgenland</td>\n      <td>Burgenland</td>\n      <td>POLYGON ((4846489.857 2803511.391, 4854633.294...</td>\n      <td>27600.0</td>\n    </tr>\n    <tr>\n      <th>...</th>\n      <td>...</td>\n      <td>...</td>\n      <td>...</td>\n      <td>...</td>\n      <td>...</td>\n      <td>...</td>\n      <td>...</td>\n      <td>...</td>\n      <td>...</td>\n      <td>...</td>\n      <td>...</td>\n      <td>...</td>\n      <td>...</td>\n      <td>...</td>\n      <td>...</td>\n    </tr>\n    <tr>\n      <th>970</th>\n      <td>SK04</td>\n      <td>2015</td>\n      <td>-0.459419</td>\n      <td>-0.521702</td>\n      <td>-0.290088</td>\n      <td>-0.150130</td>\n      <td>1.414827</td>\n      <td>-0.220511</td>\n      <td>-0.518666</td>\n      <td>-1.345553</td>\n      <td>-1.027409</td>\n      <td>Východné Slovensko</td>\n      <td>Východné Slovensko</td>\n      <td>POLYGON ((5234032.669 2964367.443, 5224941.452...</td>\n      <td>15200.0</td>\n    </tr>\n    <tr>\n      <th>971</th>\n      <td>SK04</td>\n      <td>2016</td>\n      <td>-0.490577</td>\n      <td>-0.540160</td>\n      <td>-0.289404</td>\n      <td>-0.149044</td>\n      <td>1.243141</td>\n      <td>-0.227834</td>\n      <td>-0.485621</td>\n      <td>-1.386354</td>\n      <td>-1.069435</td>\n      <td>Východné Slovensko</td>\n      <td>Východné Slovensko</td>\n      <td>POLYGON ((5234032.669 2964367.443, 5224941.452...</td>\n      <td>14300.0</td>\n    </tr>\n    <tr>\n      <th>972</th>\n      <td>SK04</td>\n      <td>2017</td>\n      <td>-0.502221</td>\n      <td>-0.547703</td>\n      <td>-0.289175</td>\n      <td>-0.147199</td>\n      <td>1.163894</td>\n      <td>-0.229926</td>\n      <td>-0.477852</td>\n      <td>-1.294551</td>\n      <td>-0.985384</td>\n      <td>Východné Slovensko</td>\n      <td>Východné Slovensko</td>\n      <td>POLYGON ((5234032.669 2964367.443, 5224941.452...</td>\n      <td>14800.0</td>\n    </tr>\n    <tr>\n      <th>973</th>\n      <td>SK04</td>\n      <td>2018</td>\n      <td>-0.472183</td>\n      <td>-0.527053</td>\n      <td>-0.288947</td>\n      <td>-0.145616</td>\n      <td>0.990927</td>\n      <td>-0.220772</td>\n      <td>-0.466630</td>\n      <td>-0.917139</td>\n      <td>-0.617659</td>\n      <td>Východné Slovensko</td>\n      <td>Východné Slovensko</td>\n      <td>POLYGON ((5234032.669 2964367.443, 5224941.452...</td>\n      <td>15300.0</td>\n    </tr>\n    <tr>\n      <th>974</th>\n      <td>SK04</td>\n      <td>2019</td>\n      <td>-0.460397</td>\n      <td>-0.509360</td>\n      <td>-0.288833</td>\n      <td>-0.144176</td>\n      <td>0.905062</td>\n      <td>-0.205473</td>\n      <td>-0.419079</td>\n      <td>-0.855937</td>\n      <td>-0.596646</td>\n      <td>Východné Slovensko</td>\n      <td>Východné Slovensko</td>\n      <td>POLYGON ((5234032.669 2964367.443, 5224941.452...</td>\n      <td>15500.0</td>\n    </tr>\n  </tbody>\n</table>\n<p>975 rows × 15 columns</p>\n</div>"
     },
     "execution_count": 47,
     "metadata": {},
     "output_type": "execute_result"
    }
   ],
   "source": [
    "final_df"
   ],
   "metadata": {
    "collapsed": false,
    "pycharm": {
     "name": "#%%\n"
    }
   }
  },
  {
   "cell_type": "code",
   "execution_count": 48,
   "outputs": [],
   "source": [
    "import scipy.sparse as sp\n",
    "\n",
    "# Convert to panel data structure\n",
    "final_df = final_df.sort_values(by=['NUTS_ID', 'TIME_PERIOD'])\n",
    "final_df = final_df.set_index(['NUTS_ID', 'TIME_PERIOD'])"
   ],
   "metadata": {
    "collapsed": false,
    "pycharm": {
     "name": "#%%\n"
    }
   }
  },
  {
   "cell_type": "markdown",
   "source": [
    "# Spatiotemporal Model"
   ],
   "metadata": {
    "collapsed": false,
    "pycharm": {
     "name": "#%% md\n"
    }
   }
  },
  {
   "cell_type": "markdown",
   "source": [
    "## Data Loading"
   ],
   "metadata": {
    "collapsed": false,
    "pycharm": {
     "name": "#%% md\n"
    }
   }
  },
  {
   "cell_type": "code",
   "execution_count": 49,
   "outputs": [],
   "source": [
    "# Removing variables that tested for multicollinearity!\n",
    "exp_var_list.remove('DISP_INCOME_VAL')\n",
    "exp_var_list.remove('POP_COUNT_VAL')"
   ],
   "metadata": {
    "collapsed": false,
    "pycharm": {
     "name": "#%%\n"
    }
   }
  },
  {
   "cell_type": "markdown",
   "source": [
    "## Temporal Lags Creation"
   ],
   "metadata": {
    "collapsed": false,
    "pycharm": {
     "name": "#%% md\n"
    }
   }
  },
  {
   "cell_type": "code",
   "execution_count": 50,
   "outputs": [],
   "source": [
    "# # Initializing list to store lag variables\n",
    "# lag_list = list()\n",
    "# # Sort the DataFrame by 'Region' and 'Year'\n",
    "# final_df.sort_values(by=['NUTS_ID', 'TIME_PERIOD'], inplace=True)\n",
    "# # Create temporal lags for 'HumanResources_SciTech'\n",
    "# lag_columns = [2]  # Define the lag periods you want\n",
    "# for lag in lag_columns:\n",
    "#     for var in exp_var_list:\n",
    "#         final_df[var+'_lag'+str(lag)] = final_df.groupby('NUTS_ID')[var].shift(lag)\n",
    "#         lag_list.append(var+'_lag'+str(lag))\n",
    "#\n",
    "# # Fill NaN values with the first non-null value within each region\n",
    "# for lag in lag_columns:\n",
    "#     for var in exp_var_list:\n",
    "#         lag_col = var+'_lag'+str(lag)\n",
    "#         final_df[lag_col] = final_df.groupby('NUTS_ID')[lag_col].transform(lambda x: x.fillna(method='bfill').fillna(method='ffill'))\n",
    "# final_df = final_df.dropna()\n",
    "#\n",
    "# # Appending explanatory variable list with the temporal lag variables!\n",
    "# for var in lag_list:\n",
    "#     exp_var_list.append(var)\n",
    "#\n",
    "# len(exp_var_list)"
   ],
   "metadata": {
    "collapsed": false,
    "pycharm": {
     "name": "#%%\n"
    }
   }
  },
  {
   "cell_type": "code",
   "execution_count": 51,
   "outputs": [],
   "source": [
    "# Extract dependent variable (GDP)\n",
    "y = final_df['GDP_VALUE'].values\n",
    "# Extract independent variables\n",
    "X = final_df[exp_var_list].values"
   ],
   "metadata": {
    "collapsed": false,
    "pycharm": {
     "name": "#%%\n"
    }
   }
  },
  {
   "cell_type": "markdown",
   "source": [
    "## Spatial Weight Matrix Tranformation"
   ],
   "metadata": {
    "collapsed": false,
    "pycharm": {
     "name": "#%% md\n"
    }
   }
  },
  {
   "cell_type": "code",
   "execution_count": 59,
   "outputs": [
    {
     "name": "stderr",
     "output_type": "stream",
     "text": [
      "C:\\Users\\20211147\\PycharmProjects\\DataMiningCodes\\venv\\lib\\site-packages\\libpysal\\weights\\weights.py:224: UserWarning: The weights matrix is not fully connected: \n",
      " There are 5 disconnected components.\n",
      "  warnings.warn(message)\n"
     ]
    }
   ],
   "source": [
    "# Number of time periods\n",
    "num_periods = len(final_df.index.get_level_values(1).unique())\n",
    "# Convert the Kernel weights matrix to a sparse matrix\n",
    "W_sparse = w_adaptive_exp.full()[0]\n",
    "# Extend the spatial weights' matrix for each time period using the Kronecker product\n",
    "W_extended = sp.kron(sp.identity(num_periods), W_sparse)\n",
    "# Fit the panel model\n",
    "# Convert the extended sparse matrix to a dense format\n",
    "W_extended_dense = W_extended.toarray()\n",
    "# Create a PySAL weights object from the dense matrix\n",
    "# Extract the neighbors and weights\n",
    "neighbors = {}\n",
    "weights_i = {}\n",
    "for i, row in enumerate(W_extended_dense):\n",
    "    neighbors[i] = np.where(row != 0)[0].tolist()\n",
    "    weights_i[i] = row[row != 0].tolist()\n",
    "\n",
    "W_pysal = W(neighbors, weights_i)\n",
    "# Now W_pysal is a PySAL-compatible weights object that can be used in your model"
   ],
   "metadata": {
    "collapsed": false,
    "pycharm": {
     "name": "#%%\n"
    }
   }
  },
  {
   "cell_type": "code",
   "execution_count": 53,
   "outputs": [
    {
     "data": {
      "text/plain": "['EDU_VAL',\n 'POP_DENS_VAL',\n 'PRIM_INCOME_VAL',\n 'SCI_TECH_VAL',\n 'TOTAL_DEATH_VAL',\n 'TOUR_NIGHTS_VAL',\n 'TOUR_PLCS_VAL']"
     },
     "execution_count": 53,
     "metadata": {},
     "output_type": "execute_result"
    }
   ],
   "source": [
    "exp_temp = exp_var_list.copy()\n",
    "exp_temp"
   ],
   "metadata": {
    "collapsed": false,
    "pycharm": {
     "name": "#%%\n"
    }
   }
  },
  {
   "cell_type": "code",
   "execution_count": 54,
   "outputs": [],
   "source": [
    "# for var in exp_temp:\n",
    "#     exp_var_list.remove(var)\n",
    "#\n",
    "# exp_var_list"
   ],
   "metadata": {
    "collapsed": false,
    "pycharm": {
     "name": "#%%\n"
    }
   }
  },
  {
   "cell_type": "code",
   "execution_count": 55,
   "outputs": [
    {
     "name": "stdout",
     "output_type": "stream",
     "text": [
      "REGRESSION RESULTS\n",
      "------------------\n",
      "\n",
      "SUMMARY OF OUTPUT: SPATIAL TWO STAGE LEAST SQUARES\n",
      "--------------------------------------------------\n",
      "Data set            :     unknown\n",
      "Weights matrix      :     unknown\n",
      "Dependent Variable  :   GDP_VALUE                Number of Observations:         975\n",
      "Mean dependent var  :  28118.9744                Number of Variables   :           9\n",
      "S.D. dependent var  :  10876.0639                Degrees of Freedom    :         966\n",
      "Pseudo R-squared    :      0.7121\n",
      "Spatial Pseudo R-squared:  0.6921\n",
      "\n",
      "------------------------------------------------------------------------------------\n",
      "            Variable     Coefficient       Std.Error     z-Statistic     Probability\n",
      "------------------------------------------------------------------------------------\n",
      "            CONSTANT     25542.91133      1209.46325        21.11921         0.00000\n",
      "             EDU_VAL     -4974.00032       508.06404        -9.79011         0.00000\n",
      "        POP_DENS_VAL      1617.32902       189.61136         8.52971         0.00000\n",
      "     PRIM_INCOME_VAL       572.46672       249.54111         2.29408         0.02179\n",
      "        SCI_TECH_VAL     10710.49112       584.05991        18.33800         0.00000\n",
      "     TOTAL_DEATH_VAL     -2170.30266       222.03190        -9.77473         0.00000\n",
      "     TOUR_NIGHTS_VAL       752.23949       252.80828         2.97553         0.00292\n",
      "       TOUR_PLCS_VAL      -454.71977       215.48193        -2.11025         0.03484\n",
      "         W_GDP_VALUE         0.12737         0.05105         2.49514         0.01259\n",
      "------------------------------------------------------------------------------------\n",
      "Instrumented: W_GDP_VALUE\n",
      "Instruments: W2_EDU_VAL, W2_POP_DENS_VAL, W2_PRIM_INCOME_VAL,\n",
      "             W2_SCI_TECH_VAL, W2_TOTAL_DEATH_VAL, W2_TOUR_NIGHTS_VAL,\n",
      "             W2_TOUR_PLCS_VAL, W3_EDU_VAL, W3_POP_DENS_VAL,\n",
      "             W3_PRIM_INCOME_VAL, W3_SCI_TECH_VAL, W3_TOTAL_DEATH_VAL,\n",
      "             W3_TOUR_NIGHTS_VAL, W3_TOUR_PLCS_VAL, W4_EDU_VAL,\n",
      "             W4_POP_DENS_VAL, W4_PRIM_INCOME_VAL, W4_SCI_TECH_VAL,\n",
      "             W4_TOTAL_DEATH_VAL, W4_TOUR_NIGHTS_VAL, W4_TOUR_PLCS_VAL,\n",
      "             W5_EDU_VAL, W5_POP_DENS_VAL, W5_PRIM_INCOME_VAL,\n",
      "             W5_SCI_TECH_VAL, W5_TOTAL_DEATH_VAL, W5_TOUR_NIGHTS_VAL,\n",
      "             W5_TOUR_PLCS_VAL, W6_EDU_VAL, W6_POP_DENS_VAL,\n",
      "             W6_PRIM_INCOME_VAL, W6_SCI_TECH_VAL, W6_TOTAL_DEATH_VAL,\n",
      "             W6_TOUR_NIGHTS_VAL, W6_TOUR_PLCS_VAL, W_EDU_VAL,\n",
      "             W_POP_DENS_VAL, W_PRIM_INCOME_VAL, W_SCI_TECH_VAL,\n",
      "             W_TOTAL_DEATH_VAL, W_TOUR_NIGHTS_VAL, W_TOUR_PLCS_VAL\n",
      "================================ END OF REPORT =====================================\n"
     ]
    }
   ],
   "source": [
    "gm_lag_model = GM_Lag(y, X, w=W_pysal, w_lags=6, name_y='GDP_VALUE', name_x=exp_var_list)\n",
    "print(gm_lag_model.summary)"
   ],
   "metadata": {
    "collapsed": false,
    "pycharm": {
     "name": "#%%\n"
    }
   }
  },
  {
   "cell_type": "code",
   "execution_count": 56,
   "outputs": [],
   "source": [
    "y_pred = gm_lag_model.predy\n",
    "# Calculate RMSE\n",
    "rmse = mean_squared_error(y, y_pred, squared=False)\n",
    "# Extract pseudo-R-squared\n",
    "pseudo_r_squared = gm_lag_model.pr2"
   ],
   "metadata": {
    "collapsed": false,
    "pycharm": {
     "name": "#%%\n"
    }
   }
  },
  {
   "cell_type": "code",
   "execution_count": 57,
   "outputs": [
    {
     "name": "stdout",
     "output_type": "stream",
     "text": [
      "RMSE (Root Mean Squared Error): 5833.011594542761\n",
      "Pseudo R-squared: 0.7121397061618294\n"
     ]
    }
   ],
   "source": [
    "print(\"RMSE (Root Mean Squared Error): \"+str(rmse))\n",
    "print(\"Pseudo R-squared: \"+str(pseudo_r_squared))"
   ],
   "metadata": {
    "collapsed": false,
    "pycharm": {
     "name": "#%%\n"
    }
   }
  },
  {
   "cell_type": "code",
   "execution_count": 58,
   "outputs": [
    {
     "name": "stdout",
     "output_type": "stream",
     "text": [
      "RMSE (Root Mean Squared Error): 5833.011594542761\n",
      "Pseudo R-squared: 0.7121397061618294\n"
     ]
    }
   ],
   "source": [
    "print(\"RMSE (Root Mean Squared Error): \"+str(rmse))\n",
    "print(\"Pseudo R-squared: \"+str(pseudo_r_squared))"
   ],
   "metadata": {
    "collapsed": false,
    "pycharm": {
     "name": "#%%\n"
    }
   }
  }
 ],
 "metadata": {
  "kernelspec": {
   "display_name": "Python 3",
   "language": "python",
   "name": "python3"
  },
  "language_info": {
   "codemirror_mode": {
    "name": "ipython",
    "version": 2
   },
   "file_extension": ".py",
   "mimetype": "text/x-python",
   "name": "python",
   "nbconvert_exporter": "python",
   "pygments_lexer": "ipython2",
   "version": "2.7.6"
  }
 },
 "nbformat": 4,
 "nbformat_minor": 0
}